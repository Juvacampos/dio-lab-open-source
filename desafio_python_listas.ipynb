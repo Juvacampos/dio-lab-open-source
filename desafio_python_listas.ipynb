{
  "nbformat": 4,
  "nbformat_minor": 0,
  "metadata": {
    "colab": {
      "provenance": [],
      "authorship_tag": "ABX9TyOCm4wFRB1e8H3Fufq+cb/7",
      "include_colab_link": true
    },
    "kernelspec": {
      "name": "python3",
      "display_name": "Python 3"
    },
    "language_info": {
      "name": "python"
    }
  },
  "cells": [
    {
      "cell_type": "markdown",
      "metadata": {
        "id": "view-in-github",
        "colab_type": "text"
      },
      "source": [
        "<a href=\"https://colab.research.google.com/github/Juvacampos/dio-lab-open-source/blob/main/desafio_python_listas.ipynb\" target=\"_parent\"><img src=\"https://colab.research.google.com/assets/colab-badge.svg\" alt=\"Open In Colab\"/></a>"
      ]
    },
    {
      "cell_type": "code",
      "execution_count": 49,
      "metadata": {
        "colab": {
          "base_uri": "https://localhost:8080/"
        },
        "id": "UUyGNj-opWmk",
        "outputId": "cfab3b02-abf3-4469-9f23-c5bcfadc0e28"
      },
      "outputs": [
        {
          "output_type": "stream",
          "name": "stdout",
          "text": [
            "1, 2, 3, 4, 5, 6, 7, 8, 9, 10, 11, 12\n",
            "78, 6.50\n"
          ]
        }
      ],
      "source": [
        "def analise_vendas(vendas):\n",
        "    # Calcule o total de vendas\n",
        "    total_vendas = sum(vendas)\n",
        "    # Calcule a média mensal de vendas\n",
        "    media_vendas = total_vendas / len(vendas)\n",
        "\n",
        "    # Retorna o resultado formatado como solicitado\n",
        "    return f\"{total_vendas}, {media_vendas:.2f}\"\n",
        "\n",
        "def obter_entrada_vendas():\n",
        "\n",
        "    # Solicita a entrada do usuário em uma única linha\n",
        "    entrada = input(\"\")\n",
        "    # Converta a entrada em uma lista de inteiros\n",
        "    vendas = list(map(int, entrada.split(',')))\n",
        "\n",
        "    return vendas\n",
        "\n",
        "# Obtém a lista de vendas\n",
        "vendas = obter_entrada_vendas()\n",
        "# Exibe o resultado da análise\n",
        "print(analise_vendas(vendas))"
      ]
    },
    {
      "cell_type": "code",
      "source": [
        "def analise_vendas(vendas):\n",
        "    # Calcula o total de vendas\n",
        "    total_vendas = sum(vendas)\n",
        "    # Calcula a média mensal de vendas\n",
        "    media_vendas = total_vendas / len(vendas)\n",
        "\n",
        "    # Retorna o resultado formatado como solicitado\n",
        "    return f\"{total_vendas}, {media_vendas:.2f}\"\n",
        "\n",
        "def obter_entrada_vendas():\n",
        "    # Solicita a entrada do usuário em uma única linha\n",
        "    entrada = input(\"\")\n",
        "    # Converte a entrada em uma lista de inteiros\n",
        "    vendas = list(map(int, entrada.split(',')))\n",
        "\n",
        "    return vendas\n",
        "\n",
        "# Obtém a lista de vendas\n",
        "vendas = obter_entrada_vendas()\n",
        "# Exibe o resultado da análise\n",
        "print(analise_vendas(vendas))"
      ],
      "metadata": {
        "id": "UQYIDHugudi8",
        "colab": {
          "base_uri": "https://localhost:8080/"
        },
        "outputId": "0fefb9db-831a-4b86-f26d-d4c3bf7c874d"
      },
      "execution_count": 46,
      "outputs": [
        {
          "output_type": "stream",
          "name": "stdout",
          "text": [
            "10, 20, 30, 40, 50, 60, 70, 80, 90, 100, 110, 120\n",
            "780, 65.00\n"
          ]
        }
      ]
    },
    {
      "cell_type": "code",
      "source": [
        "def analise_vendas(vendas):\n",
        "    # Calcule o total de vendas\n",
        "    total_vendas = sum(vendas)\n",
        "    # Calcule a média mensal de vendas\n",
        "    media_vendas = total_vendas / len(vendas)\n",
        "\n",
        "    # Retorna o resultado formatado como solicitado\n",
        "    return f\"{total_vendas}, {media_vendas:.2f}\"\n",
        "\n",
        "def obter_entrada_vendas():\n",
        "\n",
        "    # Solicita a entrada do usuário em uma única linha\n",
        "    entrada = input(\"\")\n",
        "    # Converta a entrada em uma lista de inteiros\n",
        "    vendas = list(map(int, entrada.split(',')))\n",
        "\n",
        "    return vendas\n",
        "\n",
        "# Obtém a lista de vendas\n",
        "vendas = obter_entrada_vendas()\n",
        "# Exibe o resultado da análise\n",
        "print(analise_vendas(vendas))"
      ],
      "metadata": {
        "colab": {
          "base_uri": "https://localhost:8080/"
        },
        "id": "vDhN56aIR2oM",
        "outputId": "92ce8b8d-7df5-4341-944c-76e0d5ae5ff8"
      },
      "execution_count": 58,
      "outputs": [
        {
          "output_type": "stream",
          "name": "stdout",
          "text": [
            "5, 10, 15, 20, 25, 30, 35, 40, 45, 50, 55, 60\n",
            "390, 32.50\n"
          ]
        }
      ]
    },
    {
      "cell_type": "code",
      "source": [
        "def produto_mais_vendido(produtos):\n",
        "    contagem = {}\n",
        "\n",
        "    for produto in produtos:\n",
        "        if produto in contagem:\n",
        "            contagem[produto] += 1\n",
        "        else:\n",
        "            contagem[produto] = 1\n",
        "\n",
        "    max_produto = None\n",
        "    max_count = 0\n",
        "\n",
        "    for produto, count in contagem.items():\n",
        "        # TODO: Encontre o produto com a maior contagem:\n",
        "        if count > max_count:\n",
        "            max_count = count\n",
        "            max_produto = produto\n",
        "\n",
        "    return max_produto\n",
        "\n",
        "def obter_entrada_produtos():\n",
        "    # Solicita a entrada do usuário em uma única linha\n",
        "    entrada = input(\"\")\n",
        "    #TODO: Converta a entrada em uma lista de strings, removendo espaços extras:\n",
        "    produtos = [produto.strip() for produto in entrada.split(',')]\n",
        "\n",
        "    return produtos\n",
        "\n",
        "# Obtém a lista de produtos vendidos\n",
        "produtos = obter_entrada_produtos()\n",
        "# Exibe o produto mais vendido\n",
        "print(produto_mais_vendido(produtos))"
      ],
      "metadata": {
        "colab": {
          "base_uri": "https://localhost:8080/"
        },
        "id": "l9yR8GnfTSSo",
        "outputId": "99cc3304-3aac-4437-be87-da8eb1c703a0"
      },
      "execution_count": 61,
      "outputs": [
        {
          "output_type": "stream",
          "name": "stdout",
          "text": [
            "Webcam, Webcam, Headset, Monitor, Headset, Headset\n",
            "Headset\n"
          ]
        }
      ]
    },
    {
      "cell_type": "code",
      "source": [],
      "metadata": {
        "id": "wH82s3r_T11A"
      },
      "execution_count": null,
      "outputs": []
    }
  ]
}