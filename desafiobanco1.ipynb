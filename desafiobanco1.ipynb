{
  "nbformat": 4,
  "nbformat_minor": 0,
  "metadata": {
    "colab": {
      "provenance": [],
      "authorship_tag": "ABX9TyNYQF0S0w794ejCf/TEKql6",
      "include_colab_link": true
    },
    "kernelspec": {
      "name": "python3",
      "display_name": "Python 3"
    },
    "language_info": {
      "name": "python"
    }
  },
  "cells": [
    {
      "cell_type": "markdown",
      "metadata": {
        "id": "view-in-github",
        "colab_type": "text"
      },
      "source": [
        "<a href=\"https://colab.research.google.com/github/Juvacampos/dio-lab-open-source/blob/main/desafiobanco1.ipynb\" target=\"_parent\"><img src=\"https://colab.research.google.com/assets/colab-badge.svg\" alt=\"Open In Colab\"/></a>"
      ]
    },
    {
      "cell_type": "code",
      "execution_count": 2,
      "metadata": {
        "colab": {
          "base_uri": "https://localhost:8080/"
        },
        "id": "uKQEVjzVlAeQ",
        "outputId": "917c970b-3242-4b8e-e6ca-6e8a2ee48570"
      },
      "outputs": [
        {
          "name": "stdout",
          "output_type": "stream",
          "text": [
            "\n",
            "\n",
            "[1] Depositar\n",
            "[2] Sacar\n",
            "[3] Extrato\n",
            "[9] Sair\n",
            "\n",
            "=> 1\n",
            "Informe o valor do depósito: 2000\n",
            "\n",
            "\n",
            "[1] Depositar\n",
            "[2] Sacar\n",
            "[3] Extrato\n",
            "[9] Sair\n",
            "\n",
            "=> 3\n",
            "\n",
            "---------------- EXTRATO -----------------\n",
            "Depósito: R$ 2000.00\n",
            "\n",
            "\n",
            "Saldo: R$ 2000.00\n",
            "------------------------------------------\n",
            "\n",
            "\n",
            "[1] Depositar\n",
            "[2] Sacar\n",
            "[3] Extrato\n",
            "[9] Sair\n",
            "\n",
            "=> 1\n",
            "Informe o valor do depósito: -200\n",
            "Operação falhou! O valor informado é inválido.\n",
            "\n",
            "\n",
            "[1] Depositar\n",
            "[2] Sacar\n",
            "[3] Extrato\n",
            "[9] Sair\n",
            "\n",
            "=> 9\n"
          ]
        }
      ],
      "source": [
        "menu = \"\"\"\n",
        "\n",
        "[1] Depositar\n",
        "[2] Sacar\n",
        "[3] Extrato\n",
        "[9] Sair\n",
        "\n",
        "=> \"\"\"\n",
        "\n",
        "saldo = 0\n",
        "limite = 500\n",
        "extrato = \"\"\n",
        "numero_saques = 0\n",
        "LIMITE_SAQUES = 3\n",
        "\n",
        "while True:\n",
        "\n",
        "    opcao = input(menu)\n",
        "\n",
        "    if opcao == \"1\":\n",
        "        valor = float(input(\"Informe o valor do depósito: \"))\n",
        "\n",
        "        if valor > 0:\n",
        "            saldo += valor\n",
        "            extrato += f\"Depósito: R$ {valor:.2f}\\n\"\n",
        "\n",
        "        else:\n",
        "            print(\"Operação falhou! O valor informado é inválido.\")\n",
        "\n",
        "    elif opcao == \"2\":\n",
        "        valor = float(input(\"Informe o valor do saque: \"))\n",
        "\n",
        "        excedeu_saldo = valor > saldo\n",
        "\n",
        "        excedeu_limite = valor > limite\n",
        "\n",
        "        excedeu_saques = numero_saques >= LIMITE_SAQUES\n",
        "\n",
        "        if excedeu_saldo:\n",
        "            print(\"Operação falhou! Você não tem saldo suficiente.\")\n",
        "\n",
        "        elif excedeu_limite:\n",
        "            print(\"Operação falhou! O valor do saque excede o limite.\")\n",
        "\n",
        "        elif excedeu_saques:\n",
        "            print(\"Operação falhou! Número máximo de saques excedido.\")\n",
        "\n",
        "        elif valor > 0:\n",
        "            saldo -= valor\n",
        "            extrato += f\"Saque: R$ {valor:.2f}\\n\"\n",
        "            numero_saques += 1\n",
        "\n",
        "        else:\n",
        "            print(\"Operação falhou! O valor informado é inválido.\")\n",
        "\n",
        "    elif opcao == \"3\":\n",
        "        print(\"\\n---------------- EXTRATO -----------------\")\n",
        "        print(\"Não foram realizadas movimentações.\" if not extrato else extrato)\n",
        "        print(f\"\\nSaldo: R$ {saldo:.2f}\")\n",
        "        print(\"------------------------------------------\")\n",
        "\n",
        "    elif opcao == \"9\":\n",
        "        break\n",
        "\n",
        "    else:\n",
        "        print(\"Operação inválida, por favor selecione novamente a operação desejada.\")\n"
      ]
    },
    {
      "cell_type": "code",
      "source": [],
      "metadata": {
        "id": "Q_E80MNUpz7F"
      },
      "execution_count": null,
      "outputs": []
    },
    {
      "cell_type": "code",
      "source": [],
      "metadata": {
        "id": "chJ48n3iqBhI"
      },
      "execution_count": null,
      "outputs": []
    },
    {
      "cell_type": "code",
      "source": [],
      "metadata": {
        "id": "8IeK2bcCqCH5"
      },
      "execution_count": null,
      "outputs": []
    }
  ]
}